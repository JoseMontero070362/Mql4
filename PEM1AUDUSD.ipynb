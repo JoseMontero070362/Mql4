{
  "nbformat": 4,
  "nbformat_minor": 0,
  "metadata": {
    "colab": {
      "provenance": [],
      "mount_file_id": "1PhgASGhdNXufHhsERA21t5olmya3Kqor",
      "authorship_tag": "ABX9TyM4o6a4kAZbPwI6o+Wwp6Ee",
      "include_colab_link": true
    },
    "kernelspec": {
      "name": "python3",
      "display_name": "Python 3"
    },
    "language_info": {
      "name": "python"
    }
  },
  "cells": [
    {
      "cell_type": "markdown",
      "metadata": {
        "id": "view-in-github",
        "colab_type": "text"
      },
      "source": [
        "<a href=\"https://colab.research.google.com/github/JoseMontero070362/Mql4/blob/main/PEM1AUDUSD.ipynb\" target=\"_parent\"><img src=\"https://colab.research.google.com/assets/colab-badge.svg\" alt=\"Open In Colab\"/></a>"
      ]
    },
    {
      "cell_type": "markdown",
      "source": [
        "GENERA DATOS DE PUNTOS DE EQUILIBRIO PARA TF = M1"
      ],
      "metadata": {
        "id": "M4DC5qPrU-IA"
      }
    },
    {
      "cell_type": "code",
      "source": [],
      "metadata": {
        "id": "za8l3bHEEXVU"
      },
      "execution_count": null,
      "outputs": []
    },
    {
      "cell_type": "code",
      "source": [],
      "metadata": {
        "id": "v1Al9mntFSm1"
      },
      "execution_count": null,
      "outputs": []
    },
    {
      "cell_type": "code",
      "source": [],
      "metadata": {
        "id": "Z_5C_QRFGsRz"
      },
      "execution_count": null,
      "outputs": []
    },
    {
      "cell_type": "code",
      "source": [],
      "metadata": {
        "id": "95U_PGMzGtFQ"
      },
      "execution_count": null,
      "outputs": []
    },
    {
      "cell_type": "code",
      "source": [
        "!mkdir data"
      ],
      "metadata": {
        "id": "G_uWZb0V0ViV"
      },
      "execution_count": null,
      "outputs": []
    },
    {
      "cell_type": "code",
      "source": [
        "%cd /content/data\n",
        "!unzip *.zip"
      ],
      "metadata": {
        "id": "yB-lp_tt0anI"
      },
      "execution_count": null,
      "outputs": []
    },
    {
      "cell_type": "code",
      "source": [],
      "metadata": {
        "id": "fwmZo2vo0ea8"
      },
      "execution_count": null,
      "outputs": []
    },
    {
      "cell_type": "code",
      "execution_count": null,
      "metadata": {
        "id": "JQJcWREpU6Mu"
      },
      "outputs": [],
      "source": [
        "import pandas as pd\n",
        "import datetime as dt\n",
        "import numpy as np\n",
        "import matplotlib.pyplot as plt\n",
        "df = pd.read_csv('/content/data/AUDUSD_1_2022-01-03_2022-11-23.csv')\n",
        "df.columns =['Date', 'Hour', 'Open', 'High','Low','Close','Volume']\n",
        "\n",
        "\n",
        "df['MA_1_t']=round(df.Close.rolling(5).mean(),6)\n",
        "df['MA_2_t']=round(df.Close.rolling(12).mean(),6)\n",
        "df['MA_3_t']=round(df.Close.rolling(20).mean(),6)\n",
        "df['MA_4_t']=round(df.Close.rolling(40).mean(),6)\n",
        "df['MA_5_t']=round(df.Close.rolling(200).mean(),6)"
      ]
    },
    {
      "cell_type": "code",
      "source": [
        "serie1 = df.dropna()\n",
        "serie1.reset_index(drop=True)\n",
        "df = serie1.reset_index(drop=True)\n"
      ],
      "metadata": {
        "id": "ZTL8K3eiVGTB"
      },
      "execution_count": null,
      "outputs": []
    },
    {
      "cell_type": "code",
      "source": [
        "df"
      ],
      "metadata": {
        "id": "Q2ieO8Fv9Uqh"
      },
      "execution_count": null,
      "outputs": []
    },
    {
      "cell_type": "code",
      "source": [
        "k1 = 0.0\n",
        "k2 = 3\n",
        "cont1 = 0\n",
        "varpe6 = 0.0\n",
        "\n",
        "for i in range (len(df)):\n",
        "\n",
        "    dif1 = abs(df.loc[i,'MA_1_t']-df.loc[i,'MA_2_t'])*10000\n",
        "    dif2 = abs(df.loc[i,'MA_1_t']-df.loc[i,'MA_3_t'])*10000\n",
        "    dif3 = abs(df.loc[i,'MA_1_t']-df.loc[i,'MA_4_t'])*10000\n",
        "    dif4 = abs(df.loc[i,'MA_2_t']-df.loc[i,'MA_3_t'])*10000\n",
        "    dif5 = abs(df.loc[i,'MA_2_t']-df.loc[i,'MA_4_t'])*10000\n",
        "    dif6 = abs(df.loc[i,'MA_3_t']-df.loc[i,'MA_4_t'])*10000\n",
        "    if i <10:\n",
        "      print(\"diferencia1:  \",dif1)\n",
        "\n",
        "\n",
        "    if (((dif1  < k2) and (dif1 > k1)) and ((dif2 < k2) and (dif2  > k1)) and  # punto de quilibrio\n",
        "        ((dif3  < k2) and (dif3 > k1)) and ((dif4 < k2) and (dif4 > k1))  and\n",
        "        ((dif5  < k2) and (dif5 > k1)) and ((dif6 < k2) and (dif6 > k1))):\n",
        "\n",
        "\n",
        "          varpe5 = (df.loc[i,\"Close\"]+df.loc[i,\"Open\"]+ df.loc[i,\"High\"]+ df.loc[i,\"Low\"])\n",
        "\n",
        "          df.loc[i, \"serie1\"] = round(varpe5/4,6)\n",
        "          if i <10:\n",
        "            print(\"PE:  \",df.loc[i, \"serie1\"])\n",
        "          cont1= cont1 + 1\n",
        ""
      ],
      "metadata": {
        "id": "7kOjujOBVKfU",
        "colab": {
          "base_uri": "https://localhost:8080/"
        },
        "outputId": "26d9b396-73e4-4377-96ee-d5fcaecdeb6b"
      },
      "execution_count": null,
      "outputs": [
        {
          "output_type": "stream",
          "name": "stdout",
          "text": [
            "diferencia1:   1.0500000000002174\n",
            "PE:   0.72565\n",
            "diferencia1:   1.3199999999990997\n",
            "PE:   0.72565\n",
            "diferencia1:   1.7000000000000348\n",
            "PE:   0.72585\n",
            "diferencia1:   0.900000000000345\n",
            "PE:   0.725625\n",
            "diferencia1:   0.2199999999996649\n",
            "PE:   0.72565\n",
            "diferencia1:   0.46999999999908226\n",
            "PE:   0.7255\n",
            "diferencia1:   0.8699999999994823\n",
            "PE:   0.72555\n",
            "diferencia1:   1.2999999999996348\n",
            "PE:   0.7254\n",
            "diferencia1:   1.3299999999993872\n",
            "PE:   0.7255\n",
            "diferencia1:   1.60000000000049\n",
            "PE:   0.725375\n"
          ]
        }
      ]
    },
    {
      "cell_type": "code",
      "source": [
        "print(\"NumeroPE:\", cont1)"
      ],
      "metadata": {
        "colab": {
          "base_uri": "https://localhost:8080/"
        },
        "id": "O_cPm-eKVO-R",
        "outputId": "babc5c28-2e14-4e97-9419-0b76264aa3be"
      },
      "execution_count": null,
      "outputs": [
        {
          "output_type": "stream",
          "name": "stdout",
          "text": [
            "NumeroPE: 133816\n"
          ]
        }
      ]
    },
    {
      "cell_type": "code",
      "source": [
        "df"
      ],
      "metadata": {
        "id": "gHGUZpVB_O4v"
      },
      "execution_count": null,
      "outputs": []
    },
    {
      "cell_type": "code",
      "source": [
        "serie1 = df.dropna()\n",
        "serie1.reset_index(drop=True)\n",
        "df = serie1.reset_index(drop=True)\n",
        "\n"
      ],
      "metadata": {
        "id": "QGn8J9AeVTlW"
      },
      "execution_count": null,
      "outputs": []
    },
    {
      "cell_type": "code",
      "source": [
        "df.reset_index(drop=True).to_csv (\"serie6M1.csv\",header = True,columns = [\"serie1\"],index = False)"
      ],
      "metadata": {
        "id": "53aMyFAGVXL7"
      },
      "execution_count": null,
      "outputs": []
    },
    {
      "cell_type": "code",
      "source": [
        "df6 = pd.read_csv('/content/data/serie6M1.csv') # puntos de equilibrio sin filtro\n"
      ],
      "metadata": {
        "id": "K3I09Vg5VfJx"
      },
      "execution_count": null,
      "outputs": []
    },
    {
      "cell_type": "code",
      "source": [
        "df6.plot()"
      ],
      "metadata": {
        "colab": {
          "base_uri": "https://localhost:8080/",
          "height": 282
        },
        "id": "on9makyuVije",
        "outputId": "fdc3f493-0e03-4dcd-d727-a88e59a2a74f"
      },
      "execution_count": null,
      "outputs": [
        {
          "output_type": "execute_result",
          "data": {
            "text/plain": [
              "<matplotlib.axes._subplots.AxesSubplot at 0x7fbc918f1f50>"
            ]
          },
          "metadata": {},
          "execution_count": 73
        },
        {
          "output_type": "display_data",
          "data": {
            "text/plain": [
              "<Figure size 432x288 with 1 Axes>"
            ],
            "image/png": "[encoded data removed]"
          },
          "metadata": {
            "needs_background": "light"
          }
        }
      ]
    },
    {
      "cell_type": "code",
      "source": [
        "d  = 10\n",
        "cont2 = 0\n",
        "diferencia_abs = 0\n",
        "\n",
        "for i in range (len(df6)):\n",
        "\n",
        "      if i > 0:\n",
        "\n",
        "# Posicion = (posicion actual- posicion anterior)* 1000 en pips\n",
        "\n",
        "          varpos1 = df6.loc[i-1, \"serie1\"]\n",
        "          varpos2 = df6.loc[i, \"serie1\"]\n",
        "          varpos3 = round(varpos2-varpos1,6)\n",
        "\n",
        "          diferencia_abs  = round(abs(varpos3),6)*10000\n",
        "          diferencia     = (round(varpos3,6))*10000\n",
        "\n",
        "\n",
        "      if diferencia_abs >= d:\n",
        "          cont2 = cont2 +1\n",
        "          df6.loc[i,\"serie2\"] = diferencia_abs\n",
        "          #print(\"POSICION\",diferencia)\n",
        "\n"
      ],
      "metadata": {
        "id": "DEVrq3C0f9R5"
      },
      "execution_count": null,
      "outputs": []
    },
    {
      "cell_type": "code",
      "source": [
        "serie = df6.dropna()\n",
        "serie.reset_index(drop=True)\n",
        "df6 = serie.reset_index(drop=True)\n"
      ],
      "metadata": {
        "id": "UlOecpIyg8GA"
      },
      "execution_count": null,
      "outputs": []
    },
    {
      "cell_type": "code",
      "source": [
        "\n",
        "df6.reset_index(drop=True).to_csv (\"seriePEAUDUSD.csv\",header = True,columns = [\"serie1\"],index = False)\n",
        "df6.reset_index(drop=True).to_csv (\"serie9M1.csv\",header = True,columns = [\"serie2\"],index = False)"
      ],
      "metadata": {
        "id": "yKgvabsEh8GR"
      },
      "execution_count": null,
      "outputs": []
    },
    {
      "cell_type": "code",
      "source": [
        "df8 = pd.read_csv('/content/data/serie8M1.csv')\n",
        "df7 = pd.read_csv('/content/data/serie9M1.csv')\n",
        "\n",
        "df8.plot()\n",
        "df7.plot()\n",
        "\n"
      ],
      "metadata": {
        "colab": {
          "base_uri": "https://localhost:8080/",
          "height": 530
        },
        "id": "vRd90jq6iR7-",
        "outputId": "5ac04d78-46c0-4a8e-8a06-fccbec1c037b"
      },
      "execution_count": null,
      "outputs": [
        {
          "output_type": "execute_result",
          "data": {
            "text/plain": [
              "<matplotlib.axes._subplots.AxesSubplot at 0x7fbc9187c110>"
            ]
          },
          "metadata": {},
          "execution_count": 77
        },
        {
          "output_type": "display_data",
          "data": {
            "text/plain": [
              "<Figure size 432x288 with 1 Axes>"
            ],
            "image/png": "[encoded data removed]"
          },
          "metadata": {
            "needs_background": "light"
          }
        },
        {
          "output_type": "display_data",
          "data": {
            "text/plain": [
              "<Figure size 432x288 with 1 Axes>"
            ],
            "image/png": "[encoded data removed]"
          },
          "metadata": {
            "needs_background": "light"
          }
        }
      ]
    },
    {
      "cell_type": "code",
      "source": [
        "df7.mean()\n",
        "#df8.mean()"
      ],
      "metadata": {
        "colab": {
          "base_uri": "https://localhost:8080/"
        },
        "id": "nCJ4lK90s2F1",
        "outputId": "5e1b229e-4c80-4f9c-be3c-55ee938a562a"
      },
      "execution_count": null,
      "outputs": [
        {
          "output_type": "execute_result",
          "data": {
            "text/plain": [
              "serie2    20.155381\n",
              "dtype: float64"
            ]
          },
          "metadata": {},
          "execution_count": 78
        }
      ]
    }
  ]
}